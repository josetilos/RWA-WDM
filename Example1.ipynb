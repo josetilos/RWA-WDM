{
  "nbformat": 4,
  "nbformat_minor": 0,
  "metadata": {
    "colab": {
      "provenance": [],
      "authorship_tag": "ABX9TyOJ+gjOo5eKccM7G7WFe6tq",
      "include_colab_link": true
    },
    "kernelspec": {
      "name": "python3",
      "display_name": "Python 3"
    },
    "language_info": {
      "name": "python"
    }
  },
  "cells": [
    {
      "cell_type": "markdown",
      "metadata": {
        "id": "view-in-github",
        "colab_type": "text"
      },
      "source": [
        "<a href=\"https://colab.research.google.com/github/josetilos/RWA-WDM/blob/master/Example1.ipynb\" target=\"_parent\"><img src=\"https://colab.research.google.com/assets/colab-badge.svg\" alt=\"Open In Colab\"/></a>"
      ]
    },
    {
      "cell_type": "code",
      "execution_count": 1,
      "metadata": {
        "colab": {
          "base_uri": "https://localhost:8080/"
        },
        "id": "0ZuwOT4wQYoG",
        "outputId": "25742da4-4f9a-4b1c-c540-1cf736f255ca"
      },
      "outputs": [
        {
          "output_type": "stream",
          "name": "stdout",
          "text": [
            "hello\n"
          ]
        }
      ],
      "source": [
        "print(\"hello\")"
      ]
    },
    {
      "cell_type": "code",
      "source": [
        "# prompt: I need you to create telecom italia network topology using igraph. I need you to include population per city and we are going to create traffic matrix based on population. The total traffic should be 10 Tbps, so you need to rescale the traffic per node so that the sum is 10 Tbps\n",
        "\n",
        "!pip install igraph\n",
        "\n",
        "import igraph as ig\n",
        "import numpy as np\n",
        "import pandas as pd\n",
        "\n",
        "# Telecom Italia Network Topology (Simplified)\n",
        "# Nodes represent major cities in Italy\n",
        "nodes = [\n",
        "    {\"name\": \"Milan\", \"population\": 1352000},\n",
        "    {\"name\": \"Rome\", \"population\": 2873000},\n",
        "    {\"name\": \"Naples\", \"population\": 970000},\n",
        "    {\"name\": \"Turin\", \"population\": 880000},\n",
        "    {\"name\": \"Palermo\", \"population\": 660000},\n",
        "    {\"name\": \"Genoa\", \"population\": 580000},\n",
        "    {\"name\": \"Bologna\", \"population\": 390000},\n",
        "    {\"name\": \"Florence\", \"population\": 380000},\n",
        "]\n",
        "\n",
        "# Edges represent connections between cities\n",
        "edges = [\n",
        "    (\"Milan\", \"Turin\"),\n",
        "    (\"Milan\", \"Genoa\"),\n",
        "    (\"Milan\", \"Bologna\"),\n",
        "    (\"Milan\", \"Rome\"),\n",
        "    (\"Rome\", \"Naples\"),\n",
        "    (\"Rome\", \"Florence\"),\n",
        "    (\"Naples\", \"Palermo\"),\n",
        "    (\"Turin\", \"Genoa\"),\n",
        "    (\"Bologna\", \"Florence\"),\n",
        "]\n",
        "\n",
        "# Create the graph\n",
        "graph = ig.Graph()\n",
        "graph.add_vertices([node[\"name\"] for node in nodes])\n",
        "graph.add_edges([(edge[0], edge[1]) for edge in edges])\n",
        "\n",
        "# Add population as a vertex attribute\n",
        "for node in nodes:\n",
        "  graph.vs.find(name=node[\"name\"])[\"population\"] = node[\"population\"]\n",
        "\n",
        "# Calculate traffic matrix based on population\n",
        "total_traffic = 10  # Tbps\n",
        "population_list = [node[\"population\"] for node in nodes]\n",
        "total_population = sum(population_list)\n",
        "\n",
        "traffic_matrix = np.zeros((len(nodes), len(nodes)))\n",
        "\n",
        "for i in range(len(nodes)):\n",
        "  for j in range(len(nodes)):\n",
        "    if i != j:\n",
        "      traffic_matrix[i, j] = (population_list[i] * population_list[j]) / (total_population**2) * total_traffic\n",
        "\n",
        "\n",
        "# Rescale the traffic so that the sum is 10Tbps\n",
        "row_sums = traffic_matrix.sum(axis=1)\n",
        "total_traffic_generated = np.sum(row_sums)\n",
        "scaling_factor = total_traffic / total_traffic_generated\n",
        "\n",
        "traffic_matrix = traffic_matrix * scaling_factor\n",
        "\n",
        "# Print the traffic matrix\n",
        "print(\"Traffic Matrix (Tbps):\")\n",
        "df_traffic_matrix = pd.DataFrame(traffic_matrix, index=[node[\"name\"] for node in nodes], columns=[node[\"name\"] for node in nodes])\n",
        "print(df_traffic_matrix)\n",
        "\n",
        "\n",
        "print(\"Network Topology:\")\n",
        "graph\n"
      ],
      "metadata": {
        "colab": {
          "base_uri": "https://localhost:8080/"
        },
        "id": "Z9vUMrdFQc_U",
        "outputId": "dbf1df3a-352a-4852-d396-76b62a1e86ee"
      },
      "execution_count": 5,
      "outputs": [
        {
          "output_type": "stream",
          "name": "stdout",
          "text": [
            "Requirement already satisfied: igraph in /usr/local/lib/python3.10/dist-packages (0.11.8)\n",
            "Requirement already satisfied: texttable>=1.6.2 in /usr/local/lib/python3.10/dist-packages (from igraph) (1.7.0)\n",
            "Traffic Matrix (Tbps):\n",
            "             Milan      Rome    Naples     Turin   Palermo     Genoa  \\\n",
            "Milan     0.000000  0.739846  0.249791  0.226615  0.169961  0.149360   \n",
            "Rome      0.739846  0.000000  0.530807  0.481557  0.361168  0.317390   \n",
            "Naples    0.249791  0.530807  0.000000  0.162586  0.121940  0.107159   \n",
            "Turin     0.226615  0.481557  0.162586  0.000000  0.110626  0.097216   \n",
            "Palermo   0.169961  0.361168  0.121940  0.110626  0.000000  0.072912   \n",
            "Genoa     0.149360  0.317390  0.107159  0.097216  0.072912  0.000000   \n",
            "Bologna   0.100432  0.213417  0.072055  0.065370  0.049027  0.043085   \n",
            "Florence  0.097856  0.207945  0.070208  0.063694  0.047770  0.041980   \n",
            "\n",
            "           Bologna  Florence  \n",
            "Milan     0.100432  0.097856  \n",
            "Rome      0.213417  0.207945  \n",
            "Naples    0.072055  0.070208  \n",
            "Turin     0.065370  0.063694  \n",
            "Palermo   0.049027  0.047770  \n",
            "Genoa     0.043085  0.041980  \n",
            "Bologna   0.000000  0.028228  \n",
            "Florence  0.028228  0.000000  \n",
            "Network Topology:\n"
          ]
        },
        {
          "output_type": "execute_result",
          "data": {
            "text/plain": [
              "<igraph.Graph at 0x78a6e0520340>"
            ]
          },
          "metadata": {},
          "execution_count": 5
        }
      ]
    },
    {
      "cell_type": "code",
      "source": [],
      "metadata": {
        "id": "kYezh1exQdOL"
      },
      "execution_count": null,
      "outputs": []
    },
    {
      "cell_type": "code",
      "source": [],
      "metadata": {
        "id": "qXYEicOwQdV1"
      },
      "execution_count": null,
      "outputs": []
    },
    {
      "cell_type": "markdown",
      "source": [
        "markup text"
      ],
      "metadata": {
        "id": "CnPz7QEPQdk_"
      }
    }
  ]
}